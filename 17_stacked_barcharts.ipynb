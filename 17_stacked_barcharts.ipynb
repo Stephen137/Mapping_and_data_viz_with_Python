{
 "cells": [
  {
   "cell_type": "markdown",
   "id": "791b699d-6d6e-4fe7-a370-013fb5d0f638",
   "metadata": {
    "id": "791b699d-6d6e-4fe7-a370-013fb5d0f638"
   },
   "source": [
    "### Creating A Stacked Bar Chart\n",
    "\n",
    "This example shows how to create a stacked chart with information about crimes reported in London by type in the year 2020. This visualization can plot 2 variables in a single plot."
   ]
  },
  {
   "cell_type": "markdown",
   "id": "ylmWkzUR3da_",
   "metadata": {
    "id": "ylmWkzUR3da_"
   },
   "source": [
    "#### Setup and Data Download\n",
    "\n",
    "The following blocks of code will install the required packages and download the datasets to your environment."
   ]
  },
  {
   "cell_type": "code",
   "execution_count": 1,
   "id": "d2563b4b-da78-43e7-8119-98d508e298a1",
   "metadata": {
    "id": "d2563b4b-da78-43e7-8119-98d508e298a1"
   },
   "outputs": [],
   "source": [
    "import pandas as pd\n",
    "import os\n",
    "import matplotlib.pyplot as plt"
   ]
  },
  {
   "cell_type": "code",
   "execution_count": 2,
   "id": "RxO6kLcu36tj",
   "metadata": {
    "id": "RxO6kLcu36tj"
   },
   "outputs": [],
   "source": [
    "data_folder = 'data'\n",
    "output_folder = 'output'\n",
    "\n",
    "if not os.path.exists(data_folder):\n",
    "    os.mkdir(data_folder)\n",
    "if not os.path.exists(output_folder):\n",
    "    os.mkdir(output_folder)"
   ]
  },
  {
   "cell_type": "code",
   "execution_count": 3,
   "id": "jgGbMJrf34QG",
   "metadata": {
    "id": "jgGbMJrf34QG"
   },
   "outputs": [],
   "source": [
    "def download(url):\n",
    "    filename = os.path.join(data_folder, os.path.basename(url))\n",
    "    if not os.path.exists(filename):\n",
    "        from urllib.request import urlretrieve\n",
    "        local, _ = urlretrieve(url, filename)\n",
    "        print('Downloaded ' + local)"
   ]
  },
  {
   "cell_type": "markdown",
   "id": "dca64db9-dd45-412c-af0a-63d30f686348",
   "metadata": {
    "id": "dca64db9-dd45-412c-af0a-63d30f686348"
   },
   "source": [
    "We have 12 different CSV files containing crime data for each month of 2020. We download each of them to the data folder."
   ]
  },
  {
   "cell_type": "code",
   "execution_count": 4,
   "id": "dFJeheKI4nQD",
   "metadata": {
    "id": "dFJeheKI4nQD"
   },
   "outputs": [],
   "source": [
    "files = [\n",
    "  '2020-01-metropolitan-street.csv',\n",
    "  '2020-02-metropolitan-street.csv',\n",
    "  '2020-03-metropolitan-street.csv',\n",
    "  '2020-04-metropolitan-street.csv',\n",
    "  '2020-05-metropolitan-street.csv',\n",
    "  '2020-06-metropolitan-street.csv',\n",
    "  '2020-07-metropolitan-street.csv',\n",
    "  '2020-08-metropolitan-street.csv',\n",
    "  '2020-09-metropolitan-street.csv',\n",
    "  '2020-10-metropolitan-street.csv',\n",
    "  '2020-11-metropolitan-street.csv',\n",
    "  '2020-12-metropolitan-street.csv'\n",
    "]\n",
    "\n",
    "data_url = 'https://github.com/spatialthoughts/python-dataviz-web/raw/main/data/crime/'\n",
    "\n",
    "for f in files:\n",
    "  url = os.path.join(data_url + f)\n",
    "  download(url)\n"
   ]
  },
  {
   "cell_type": "markdown",
   "id": "UiKED21n5G_V",
   "metadata": {
    "id": "UiKED21n5G_V"
   },
   "source": [
    "#### Data Pre-Processing"
   ]
  },
  {
   "cell_type": "markdown",
   "id": "45d09fdc-508d-4ead-9e06-d00c721b9c62",
   "metadata": {
    "id": "45d09fdc-508d-4ead-9e06-d00c721b9c62"
   },
   "source": [
    "It will be helpful to merge all 12 CSV files into a single dataframe. We can use `pd.concat()` to merge a list of dataframes."
   ]
  },
  {
   "cell_type": "code",
   "execution_count": 5,
   "id": "f301de58-846c-4273-a246-3e78ea548886",
   "metadata": {
    "id": "f301de58-846c-4273-a246-3e78ea548886"
   },
   "outputs": [],
   "source": [
    "dataframe_list = []\n",
    "\n",
    "for f in files:\n",
    "    filepath = os.path.join(data_folder, f)\n",
    "    df = pd.read_csv(filepath)\n",
    "    dataframe_list.append(df)\n",
    "\n",
    "merged_df = pd.concat(dataframe_list)"
   ]
  },
  {
   "cell_type": "code",
   "execution_count": 6,
   "id": "9f3a13de-d0ac-459f-9963-eb1357cbbdb7",
   "metadata": {
    "id": "9f3a13de-d0ac-459f-9963-eb1357cbbdb7"
   },
   "outputs": [
    {
     "data": {
      "text/plain": [
       "Month    Crime type                  \n",
       "2020-01  Anti-social behaviour           17548\n",
       "         Bicycle theft                    1172\n",
       "         Burglary                         6889\n",
       "         Criminal damage and arson        4374\n",
       "         Drugs                            4282\n",
       "                                         ...  \n",
       "2020-12  Robbery                          2021\n",
       "         Shoplifting                      2690\n",
       "         Theft from the person            3075\n",
       "         Vehicle crime                    7758\n",
       "         Violence and sexual offences    17836\n",
       "Length: 168, dtype: int64"
      ]
     },
     "execution_count": 6,
     "metadata": {},
     "output_type": "execute_result"
    }
   ],
   "source": [
    "counts_by_type = merged_df.groupby(['Month', 'Crime type']).size()\n",
    "counts_by_type"
   ]
  },
  {
   "cell_type": "markdown",
   "id": "95e61ac7-7c3f-409a-91f6-d32ee4be0ab2",
   "metadata": {
    "id": "95e61ac7-7c3f-409a-91f6-d32ee4be0ab2"
   },
   "source": [
    "The result is not in a suitable format for plotting. We call `unstack()` to create a dataframe."
   ]
  },
  {
   "cell_type": "code",
   "execution_count": 7,
   "id": "3546f451-9e7e-4c86-a9eb-fcc265553043",
   "metadata": {
    "id": "3546f451-9e7e-4c86-a9eb-fcc265553043"
   },
   "outputs": [
    {
     "data": {
      "text/html": [
       "<div>\n",
       "<style scoped>\n",
       "    .dataframe tbody tr th:only-of-type {\n",
       "        vertical-align: middle;\n",
       "    }\n",
       "\n",
       "    .dataframe tbody tr th {\n",
       "        vertical-align: top;\n",
       "    }\n",
       "\n",
       "    .dataframe thead th {\n",
       "        text-align: right;\n",
       "    }\n",
       "</style>\n",
       "<table border=\"1\" class=\"dataframe\">\n",
       "  <thead>\n",
       "    <tr style=\"text-align: right;\">\n",
       "      <th>Crime type</th>\n",
       "      <th>Anti-social behaviour</th>\n",
       "      <th>Bicycle theft</th>\n",
       "      <th>Burglary</th>\n",
       "      <th>Criminal damage and arson</th>\n",
       "      <th>Drugs</th>\n",
       "      <th>Other crime</th>\n",
       "      <th>Other theft</th>\n",
       "      <th>Possession of weapons</th>\n",
       "      <th>Public order</th>\n",
       "      <th>Robbery</th>\n",
       "      <th>Shoplifting</th>\n",
       "      <th>Theft from the person</th>\n",
       "      <th>Vehicle crime</th>\n",
       "      <th>Violence and sexual offences</th>\n",
       "    </tr>\n",
       "    <tr>\n",
       "      <th>Month</th>\n",
       "      <th></th>\n",
       "      <th></th>\n",
       "      <th></th>\n",
       "      <th></th>\n",
       "      <th></th>\n",
       "      <th></th>\n",
       "      <th></th>\n",
       "      <th></th>\n",
       "      <th></th>\n",
       "      <th></th>\n",
       "      <th></th>\n",
       "      <th></th>\n",
       "      <th></th>\n",
       "      <th></th>\n",
       "    </tr>\n",
       "  </thead>\n",
       "  <tbody>\n",
       "    <tr>\n",
       "      <th>2020-01</th>\n",
       "      <td>17548</td>\n",
       "      <td>1172</td>\n",
       "      <td>6889</td>\n",
       "      <td>4374</td>\n",
       "      <td>4282</td>\n",
       "      <td>832</td>\n",
       "      <td>9497</td>\n",
       "      <td>562</td>\n",
       "      <td>4025</td>\n",
       "      <td>3263</td>\n",
       "      <td>3853</td>\n",
       "      <td>4256</td>\n",
       "      <td>11975</td>\n",
       "      <td>18451</td>\n",
       "    </tr>\n",
       "    <tr>\n",
       "      <th>2020-02</th>\n",
       "      <td>16975</td>\n",
       "      <td>1044</td>\n",
       "      <td>6216</td>\n",
       "      <td>4220</td>\n",
       "      <td>3818</td>\n",
       "      <td>757</td>\n",
       "      <td>9729</td>\n",
       "      <td>452</td>\n",
       "      <td>3842</td>\n",
       "      <td>3152</td>\n",
       "      <td>3845</td>\n",
       "      <td>4570</td>\n",
       "      <td>10405</td>\n",
       "      <td>17959</td>\n",
       "    </tr>\n",
       "    <tr>\n",
       "      <th>2020-03</th>\n",
       "      <td>23014</td>\n",
       "      <td>1078</td>\n",
       "      <td>5362</td>\n",
       "      <td>4392</td>\n",
       "      <td>3657</td>\n",
       "      <td>813</td>\n",
       "      <td>7531</td>\n",
       "      <td>483</td>\n",
       "      <td>3966</td>\n",
       "      <td>2711</td>\n",
       "      <td>2996</td>\n",
       "      <td>3414</td>\n",
       "      <td>9621</td>\n",
       "      <td>18371</td>\n",
       "    </tr>\n",
       "    <tr>\n",
       "      <th>2020-04</th>\n",
       "      <td>62763</td>\n",
       "      <td>1060</td>\n",
       "      <td>3661</td>\n",
       "      <td>3496</td>\n",
       "      <td>4978</td>\n",
       "      <td>751</td>\n",
       "      <td>3884</td>\n",
       "      <td>460</td>\n",
       "      <td>3464</td>\n",
       "      <td>1101</td>\n",
       "      <td>1691</td>\n",
       "      <td>677</td>\n",
       "      <td>6327</td>\n",
       "      <td>15638</td>\n",
       "    </tr>\n",
       "    <tr>\n",
       "      <th>2020-05</th>\n",
       "      <td>58502</td>\n",
       "      <td>1768</td>\n",
       "      <td>3886</td>\n",
       "      <td>3906</td>\n",
       "      <td>6427</td>\n",
       "      <td>823</td>\n",
       "      <td>4443</td>\n",
       "      <td>533</td>\n",
       "      <td>4250</td>\n",
       "      <td>1293</td>\n",
       "      <td>1956</td>\n",
       "      <td>795</td>\n",
       "      <td>7277</td>\n",
       "      <td>18149</td>\n",
       "    </tr>\n",
       "    <tr>\n",
       "      <th>2020-06</th>\n",
       "      <td>39584</td>\n",
       "      <td>2548</td>\n",
       "      <td>4320</td>\n",
       "      <td>4353</td>\n",
       "      <td>4665</td>\n",
       "      <td>882</td>\n",
       "      <td>5387</td>\n",
       "      <td>463</td>\n",
       "      <td>4966</td>\n",
       "      <td>1705</td>\n",
       "      <td>2400</td>\n",
       "      <td>1194</td>\n",
       "      <td>8102</td>\n",
       "      <td>19629</td>\n",
       "    </tr>\n",
       "    <tr>\n",
       "      <th>2020-07</th>\n",
       "      <td>35588</td>\n",
       "      <td>2833</td>\n",
       "      <td>4928</td>\n",
       "      <td>4692</td>\n",
       "      <td>4569</td>\n",
       "      <td>892</td>\n",
       "      <td>6977</td>\n",
       "      <td>453</td>\n",
       "      <td>5584</td>\n",
       "      <td>2168</td>\n",
       "      <td>3099</td>\n",
       "      <td>2072</td>\n",
       "      <td>8811</td>\n",
       "      <td>20991</td>\n",
       "    </tr>\n",
       "    <tr>\n",
       "      <th>2020-08</th>\n",
       "      <td>35842</td>\n",
       "      <td>3019</td>\n",
       "      <td>4995</td>\n",
       "      <td>4710</td>\n",
       "      <td>3534</td>\n",
       "      <td>780</td>\n",
       "      <td>7647</td>\n",
       "      <td>451</td>\n",
       "      <td>5490</td>\n",
       "      <td>2530</td>\n",
       "      <td>3006</td>\n",
       "      <td>2542</td>\n",
       "      <td>8919</td>\n",
       "      <td>21317</td>\n",
       "    </tr>\n",
       "    <tr>\n",
       "      <th>2020-09</th>\n",
       "      <td>30863</td>\n",
       "      <td>3078</td>\n",
       "      <td>5195</td>\n",
       "      <td>4274</td>\n",
       "      <td>3541</td>\n",
       "      <td>964</td>\n",
       "      <td>7516</td>\n",
       "      <td>503</td>\n",
       "      <td>5167</td>\n",
       "      <td>2599</td>\n",
       "      <td>3060</td>\n",
       "      <td>2696</td>\n",
       "      <td>9829</td>\n",
       "      <td>20348</td>\n",
       "    </tr>\n",
       "    <tr>\n",
       "      <th>2020-10</th>\n",
       "      <td>31186</td>\n",
       "      <td>2619</td>\n",
       "      <td>5618</td>\n",
       "      <td>4214</td>\n",
       "      <td>4124</td>\n",
       "      <td>812</td>\n",
       "      <td>7248</td>\n",
       "      <td>500</td>\n",
       "      <td>4577</td>\n",
       "      <td>2440</td>\n",
       "      <td>3222</td>\n",
       "      <td>3225</td>\n",
       "      <td>10148</td>\n",
       "      <td>19538</td>\n",
       "    </tr>\n",
       "    <tr>\n",
       "      <th>2020-11</th>\n",
       "      <td>33863</td>\n",
       "      <td>1985</td>\n",
       "      <td>5209</td>\n",
       "      <td>4205</td>\n",
       "      <td>4410</td>\n",
       "      <td>981</td>\n",
       "      <td>5734</td>\n",
       "      <td>511</td>\n",
       "      <td>4239</td>\n",
       "      <td>2286</td>\n",
       "      <td>2770</td>\n",
       "      <td>2568</td>\n",
       "      <td>9172</td>\n",
       "      <td>18981</td>\n",
       "    </tr>\n",
       "    <tr>\n",
       "      <th>2020-12</th>\n",
       "      <td>29377</td>\n",
       "      <td>1313</td>\n",
       "      <td>4765</td>\n",
       "      <td>4087</td>\n",
       "      <td>3624</td>\n",
       "      <td>779</td>\n",
       "      <td>6331</td>\n",
       "      <td>392</td>\n",
       "      <td>3888</td>\n",
       "      <td>2021</td>\n",
       "      <td>2690</td>\n",
       "      <td>3075</td>\n",
       "      <td>7758</td>\n",
       "      <td>17836</td>\n",
       "    </tr>\n",
       "  </tbody>\n",
       "</table>\n",
       "</div>"
      ],
      "text/plain": [
       "Crime type  Anti-social behaviour  Bicycle theft  Burglary  \\\n",
       "Month                                                        \n",
       "2020-01                     17548           1172      6889   \n",
       "2020-02                     16975           1044      6216   \n",
       "2020-03                     23014           1078      5362   \n",
       "2020-04                     62763           1060      3661   \n",
       "2020-05                     58502           1768      3886   \n",
       "2020-06                     39584           2548      4320   \n",
       "2020-07                     35588           2833      4928   \n",
       "2020-08                     35842           3019      4995   \n",
       "2020-09                     30863           3078      5195   \n",
       "2020-10                     31186           2619      5618   \n",
       "2020-11                     33863           1985      5209   \n",
       "2020-12                     29377           1313      4765   \n",
       "\n",
       "Crime type  Criminal damage and arson  Drugs  Other crime  Other theft  \\\n",
       "Month                                                                    \n",
       "2020-01                          4374   4282          832         9497   \n",
       "2020-02                          4220   3818          757         9729   \n",
       "2020-03                          4392   3657          813         7531   \n",
       "2020-04                          3496   4978          751         3884   \n",
       "2020-05                          3906   6427          823         4443   \n",
       "2020-06                          4353   4665          882         5387   \n",
       "2020-07                          4692   4569          892         6977   \n",
       "2020-08                          4710   3534          780         7647   \n",
       "2020-09                          4274   3541          964         7516   \n",
       "2020-10                          4214   4124          812         7248   \n",
       "2020-11                          4205   4410          981         5734   \n",
       "2020-12                          4087   3624          779         6331   \n",
       "\n",
       "Crime type  Possession of weapons  Public order  Robbery  Shoplifting  \\\n",
       "Month                                                                   \n",
       "2020-01                       562          4025     3263         3853   \n",
       "2020-02                       452          3842     3152         3845   \n",
       "2020-03                       483          3966     2711         2996   \n",
       "2020-04                       460          3464     1101         1691   \n",
       "2020-05                       533          4250     1293         1956   \n",
       "2020-06                       463          4966     1705         2400   \n",
       "2020-07                       453          5584     2168         3099   \n",
       "2020-08                       451          5490     2530         3006   \n",
       "2020-09                       503          5167     2599         3060   \n",
       "2020-10                       500          4577     2440         3222   \n",
       "2020-11                       511          4239     2286         2770   \n",
       "2020-12                       392          3888     2021         2690   \n",
       "\n",
       "Crime type  Theft from the person  Vehicle crime  Violence and sexual offences  \n",
       "Month                                                                           \n",
       "2020-01                      4256          11975                         18451  \n",
       "2020-02                      4570          10405                         17959  \n",
       "2020-03                      3414           9621                         18371  \n",
       "2020-04                       677           6327                         15638  \n",
       "2020-05                       795           7277                         18149  \n",
       "2020-06                      1194           8102                         19629  \n",
       "2020-07                      2072           8811                         20991  \n",
       "2020-08                      2542           8919                         21317  \n",
       "2020-09                      2696           9829                         20348  \n",
       "2020-10                      3225          10148                         19538  \n",
       "2020-11                      2568           9172                         18981  \n",
       "2020-12                      3075           7758                         17836  "
      ]
     },
     "execution_count": 7,
     "metadata": {},
     "output_type": "execute_result"
    }
   ],
   "source": [
    "counts_df = counts_by_type.unstack()\n",
    "counts_df"
   ]
  },
  {
   "cell_type": "markdown",
   "id": "uJwII0AY1uG5",
   "metadata": {
    "id": "uJwII0AY1uG5"
   },
   "source": [
    "#### Creating a Chart"
   ]
  },
  {
   "cell_type": "markdown",
   "id": "0711beb7-b0cb-42c4-8839-1e7aa93237da",
   "metadata": {
    "id": "0711beb7-b0cb-42c4-8839-1e7aa93237da"
   },
   "source": [
    "Now we can create the stacked bar chart. Instead of the default legend, we create a horizontal legend with a frame using the `legend()` function."
   ]
  },
  {
   "cell_type": "code",
   "execution_count": 8,
   "id": "30736e16-e080-4fa9-a57f-d9557508c63d",
   "metadata": {
    "colab": {
     "base_uri": "https://localhost:8080/",
     "height": 716
    },
    "id": "30736e16-e080-4fa9-a57f-d9557508c63d",
    "outputId": "f0edd963-1c51-4602-93ec-5e53c6b4f2dc"
   },
   "outputs": [
    {
     "data": {
      "image/png": "[encoded data removed]",
      "text/plain": [
       "<Figure size 2000x1000 with 1 Axes>"
      ]
     },
     "metadata": {},
     "output_type": "display_data"
    }
   ],
   "source": [
    "fig, ax = plt.subplots(1, 1)\n",
    "fig.set_size_inches(20,10)\n",
    "\n",
    "counts_df.plot(kind='bar', stacked=True, ax=ax, colormap='tab20')\n",
    "\n",
    "ax.legend(loc='upper center', ncol=5, frameon=True, bbox_to_anchor=(0.5, 1.1), fancybox=True, shadow=True)\n",
    "\n",
    "ax.spines['right'].set_visible(False)\n",
    "ax.spines['top'].set_visible(False)\n",
    "\n",
    "ax.set_xlabel('Year', size = 15)\n",
    "ax.set_ylabel('Number of Incidents', size = 15)\n",
    "\n",
    "ax.set_title('Crime in London (2020)', size = 18, y=1.1)\n",
    "\n",
    "output_folder = 'output'\n",
    "output_path = os.path.join(output_folder, 'stacked_chart.jpg')\n",
    "plt.savefig(output_path)\n",
    "plt.show()"
   ]
  },
  {
   "cell_type": "code",
   "execution_count": null,
   "id": "ced83e09-ea5c-4815-a282-a7dea712d25a",
   "metadata": {},
   "outputs": [],
   "source": []
  }
 ],
 "metadata": {
  "colab": {
   "provenance": []
  },
  "kernelspec": {
   "display_name": "Python 3 (ipykernel)",
   "language": "python",
   "name": "python3"
  },
  "language_info": {
   "codemirror_mode": {
    "name": "ipython",
    "version": 3
   },
   "file_extension": ".py",
   "mimetype": "text/x-python",
   "name": "python",
   "nbconvert_exporter": "python",
   "pygments_lexer": "ipython3",
   "version": "3.10.12"
  }
 },
 "nbformat": 4,
 "nbformat_minor": 5
}
